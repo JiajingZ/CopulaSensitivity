{
 "cells": [
  {
   "cell_type": "code",
   "execution_count": null,
   "metadata": {},
   "outputs": [],
   "source": [
    "import os\n",
    "import numpy as np\n",
    "import pandas as pd\n",
    "os.chdir('movie_analysis/latent_confounder_model')"
   ]
  },
  {
   "cell_type": "code",
   "execution_count": 2,
   "metadata": {},
   "outputs": [],
   "source": [
    "nsim = 5"
   ]
  },
  {
   "cell_type": "code",
   "execution_count": 11,
   "metadata": {},
   "outputs": [
    {
     "name": "stdout",
     "output_type": "stream",
     "text": [
      "72.32885306222099\n",
      "72.38935852050781\n",
      "72.38419995989118\n",
      "72.3897955758231\n",
      "72.30706351143974\n"
     ]
    }
   ],
   "source": [
    "for i in range(nsim):\n",
    "    %run LatentDimCheck-prior07-dim01.ipynb"
   ]
  },
  {
   "cell_type": "code",
   "execution_count": 14,
   "metadata": {},
   "outputs": [],
   "source": [
    "dim1 = [72.32885306222099, 72.38935852050781, 72.38419995989118, 72.3897955758231, 72.30706351143974]"
   ]
  },
  {
   "cell_type": "code",
   "execution_count": 12,
   "metadata": {},
   "outputs": [
    {
     "name": "stdout",
     "output_type": "stream",
     "text": [
      "72.36341748918805\n",
      "72.40387180873326\n",
      "72.33848462785993\n",
      "72.32800183977399\n",
      "72.38108825683594\n"
     ]
    }
   ],
   "source": [
    "for i in range(nsim):\n",
    "    %run LatentDimCheck-prior07-dim03.ipynb"
   ]
  },
  {
   "cell_type": "code",
   "execution_count": 20,
   "metadata": {},
   "outputs": [],
   "source": [
    "dim3 = [72.36341748918805, 72.40387180873326, 72.33848462785993, 72.32800183977399, 72.38108825683594]"
   ]
  },
  {
   "cell_type": "code",
   "execution_count": 3,
   "metadata": {},
   "outputs": [
    {
     "name": "stderr",
     "output_type": "stream",
     "text": [
      "Using TensorFlow backend.\n"
     ]
    },
    {
     "name": "stdout",
     "output_type": "stream",
     "text": [
      "72.26928383963448\n",
      "72.17518506731305\n",
      "72.18753051757812\n",
      "72.31569453648159\n",
      "72.1619393484933\n"
     ]
    }
   ],
   "source": [
    "for i in range(nsim):\n",
    "    %run LatentDimCheck-prior07-dim05.ipynb"
   ]
  },
  {
   "cell_type": "code",
   "execution_count": 22,
   "metadata": {},
   "outputs": [],
   "source": [
    "dim5 = [72.26928383963448, 72.17518506731305, 72.18753051757812, 72.31569453648159, 72.1619393484933]"
   ]
  },
  {
   "cell_type": "code",
   "execution_count": 13,
   "metadata": {},
   "outputs": [
    {
     "name": "stdout",
     "output_type": "stream",
     "text": [
      "72.00627027239118\n",
      "72.07376534598214\n",
      "71.99261147635323\n",
      "72.0169198172433\n",
      "72.00977434430804\n"
     ]
    }
   ],
   "source": [
    "for i in range(nsim):\n",
    "    %run LatentDimCheck-prior07-dim07.ipynb"
   ]
  },
  {
   "cell_type": "code",
   "execution_count": 23,
   "metadata": {},
   "outputs": [],
   "source": [
    "dim7 = [72.00627027239118, 72.07376534598214, 71.99261147635323, 72.0169198172433, 72.00977434430804]"
   ]
  },
  {
   "cell_type": "code",
   "execution_count": 4,
   "metadata": {},
   "outputs": [
    {
     "name": "stdout",
     "output_type": "stream",
     "text": [
      "71.81982094900948\n",
      "71.74236297607422\n",
      "71.4690431867327\n",
      "71.78113555908203\n",
      "71.53601619175502\n"
     ]
    }
   ],
   "source": [
    "for i in range(nsim):\n",
    "    %run LatentDimCheck-prior07-dim10.ipynb"
   ]
  },
  {
   "cell_type": "code",
   "execution_count": 24,
   "metadata": {},
   "outputs": [],
   "source": [
    "dim10 = [71.81982094900948, 71.74236297607422, 71.4690431867327, 71.78113555908203, 71.53601619175502]"
   ]
  },
  {
   "cell_type": "code",
   "execution_count": 5,
   "metadata": {},
   "outputs": [
    {
     "name": "stdout",
     "output_type": "stream",
     "text": [
      "70.51367078508649\n",
      "70.69947052001953\n",
      "70.6044420514788\n",
      "70.58865465436664\n",
      "70.60355377197266\n"
     ]
    }
   ],
   "source": [
    "for i in range(nsim):\n",
    "    %run LatentDimCheck-prior07-dim15.ipynb"
   ]
  },
  {
   "cell_type": "code",
   "execution_count": 25,
   "metadata": {},
   "outputs": [],
   "source": [
    "dim15 = [70.51367078508649, 70.69947052001953, 70.6044420514788, 70.58865465436664, 70.60355377197266]"
   ]
  },
  {
   "cell_type": "code",
   "execution_count": 6,
   "metadata": {},
   "outputs": [
    {
     "name": "stdout",
     "output_type": "stream",
     "text": [
      "70.46853528703961\n",
      "70.40812356131417\n",
      "70.71368190220424\n",
      "70.01018524169922\n",
      "70.64764513288226\n"
     ]
    }
   ],
   "source": [
    "for i in range(nsim):\n",
    "    %run LatentDimCheck-prior07-dim20.ipynb"
   ]
  },
  {
   "cell_type": "code",
   "execution_count": 26,
   "metadata": {},
   "outputs": [],
   "source": [
    "dim20 = [70.46853528703961,\n",
    "         70.40812356131417,\n",
    "         70.71368190220424,\n",
    "         70.01018524169922,\n",
    "         70.64764513288226]"
   ]
  },
  {
   "cell_type": "code",
   "execution_count": 7,
   "metadata": {},
   "outputs": [
    {
     "name": "stdout",
     "output_type": "stream",
     "text": [
      "70.37820216587612\n",
      "70.7392327444894\n",
      "70.84048788888114\n",
      "70.79188537597656\n",
      "70.12713623046875\n"
     ]
    }
   ],
   "source": [
    "for i in range(nsim):\n",
    "    %run LatentDimCheck-prior07-dim25.ipynb"
   ]
  },
  {
   "cell_type": "code",
   "execution_count": 19,
   "metadata": {},
   "outputs": [],
   "source": [
    "dim25 = [70.37820216587612,\n",
    "        70.7392327444894,\n",
    "        70.84048788888114,\n",
    "        70.79188537597656,\n",
    "        70.12713623046875]"
   ]
  },
  {
   "cell_type": "code",
   "execution_count": 8,
   "metadata": {},
   "outputs": [
    {
     "name": "stdout",
     "output_type": "stream",
     "text": [
      "70.0518798828125\n",
      "70.54502541678292\n",
      "70.09011513846261\n",
      "70.57202257428851\n",
      "70.42293657575335\n"
     ]
    }
   ],
   "source": [
    "for i in range(nsim):\n",
    "    %run LatentDimCheck-prior07-dim30.ipynb"
   ]
  },
  {
   "cell_type": "code",
   "execution_count": 27,
   "metadata": {},
   "outputs": [],
   "source": [
    "dim30 = [70.0518798828125,\n",
    "        70.54502541678292,\n",
    "        70.09011513846261,\n",
    "        70.57202257428851,\n",
    "        70.42293657575335]"
   ]
  },
  {
   "cell_type": "code",
   "execution_count": 9,
   "metadata": {},
   "outputs": [
    {
     "name": "stdout",
     "output_type": "stream",
     "text": [
      "70.16051483154297\n",
      "71.01045989990234\n",
      "70.76413072858539\n",
      "70.53449140276227\n",
      "70.55590493338448\n"
     ]
    }
   ],
   "source": [
    "for i in range(nsim):\n",
    "    %run LatentDimCheck-prior07-dim35.ipynb"
   ]
  },
  {
   "cell_type": "code",
   "execution_count": 28,
   "metadata": {},
   "outputs": [],
   "source": [
    "dim35 = [70.16051483154297,\n",
    "        71.01045989990234,\n",
    "        70.76413072858539,\n",
    "        70.53449140276227,\n",
    "        70.55590493338448]"
   ]
  },
  {
   "cell_type": "code",
   "execution_count": 10,
   "metadata": {},
   "outputs": [
    {
     "name": "stdout",
     "output_type": "stream",
     "text": [
      "70.44910539899554\n",
      "70.43765258789062\n",
      "70.46384102957589\n",
      "70.94532012939453\n",
      "70.56741659981864\n"
     ]
    }
   ],
   "source": [
    "for i in range(nsim):\n",
    "    %run LatentDimCheck-prior07-dim40.ipynb"
   ]
  },
  {
   "cell_type": "code",
   "execution_count": 29,
   "metadata": {},
   "outputs": [],
   "source": [
    "dim40 = [70.44910539899554,\n",
    "        70.43765258789062,\n",
    "        70.46384102957589,\n",
    "        70.94532012939453,\n",
    "        70.56741659981864]"
   ]
  },
  {
   "cell_type": "code",
   "execution_count": 36,
   "metadata": {},
   "outputs": [],
   "source": [
    "dim_loss_df = np.concatenate(([dim1], [dim3], [dim5], [dim7], [dim10],\n",
    "               [dim15], [dim20], [dim25], [dim30], [dim35], [dim40]), axis = 0)"
   ]
  },
  {
   "cell_type": "code",
   "execution_count": 39,
   "metadata": {},
   "outputs": [
    {
     "data": {
      "text/plain": [
       "(11, 5)"
      ]
     },
     "execution_count": 39,
     "metadata": {},
     "output_type": "execute_result"
    }
   ],
   "source": [
    "dim_loss_df.shape"
   ]
  },
  {
   "cell_type": "code",
   "execution_count": 40,
   "metadata": {},
   "outputs": [],
   "source": [
    "pd.DataFrame(dim_loss_df).to_csv('dim_loss_df.csv', index = False)"
   ]
  },
  {
   "cell_type": "code",
   "execution_count": null,
   "metadata": {},
   "outputs": [],
   "source": []
  }
 ],
 "metadata": {
  "kernelspec": {
   "display_name": "Python 3",
   "language": "python",
   "name": "python3"
  },
  "language_info": {
   "codemirror_mode": {
    "name": "ipython",
    "version": 3
   },
   "file_extension": ".py",
   "mimetype": "text/x-python",
   "name": "python",
   "nbconvert_exporter": "python",
   "pygments_lexer": "ipython3",
   "version": "3.7.6"
  }
 },
 "nbformat": 4,
 "nbformat_minor": 4
}
